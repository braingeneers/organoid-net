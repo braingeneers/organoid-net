{
 "cells": [
  {
   "cell_type": "markdown",
   "metadata": {},
   "source": [
    "### Stochastic Organoid Model ###\n",
    "\n",
    "Imagine an organoid with $n$ neurons which experiences time discretely. The state of such an organoid can be modeled as an $n$ dimensional array. If the $i^{\\mathrm{th}}$ element of this array is 1, then neuron $i$ is firing; ff the $i^{\\mathrm{th}}$ element of this array is 0, then the neuron $i$ is not firing. There is an array describing the state of the orgnoid at any given time $t$, and the state of the organoid at time $t$ should help determine the state of the organoid at time $t+1$.\n",
    "\n",
    "The generation of the state at time $t+1$ from the state at time $t$ is based probablity. In particular, consider the value $p_{i,j}$, the probability that neuron $j$ firing at time $t$ will cause neuron $i$ to fire at time $t+1$. By collecting alll these various probabilities, we can form a matrix which contains all the probabilities needed to stochastically generate the sate at time $t+1$.\n",
    "\n",
    "The essential observation here is that the probability that neuron $i$ will fire at time $t+1$ is equal to $1$ minus the probability that none of the neurons firing at time $t$ will cause neuron $i$ to fire. In mathematical terms:\n",
    "\n",
    "$$ p_{\\mathrm{i \\; fire}} = 1 - \\prod_{j \\in F_t} (1-p_{i,j})$$\n",
    "\n",
    "where $F_t$ is the set of neurons which are firing at time $t$."
   ]
  },
  {
   "cell_type": "code",
   "execution_count": 215,
   "metadata": {},
   "outputs": [],
   "source": [
    "import numpy as np\n",
    "import random"
   ]
  },
  {
   "cell_type": "code",
   "execution_count": 216,
   "metadata": {},
   "outputs": [
    {
     "name": "stdout",
     "output_type": "stream",
     "text": [
      "[[0.96175122 0.72687401]\n",
      " [0.03482169 0.43181382]]\n",
      "[0 1]\n"
     ]
    }
   ],
   "source": [
    "neurons = 2\n",
    "probability_matrix = np.random.rand(neurons,neurons)\n",
    "initial_state = np.random.randint(2, size=neurons)\n",
    "product = 1\n",
    "expectation_values = np.zeros(neurons)\n",
    "final_state = np.zeros(neurons)\n",
    "time = 100\n",
    "\n",
    "print(probability_matrix)\n",
    "print(initial_state)"
   ]
  },
  {
   "cell_type": "code",
   "execution_count": 217,
   "metadata": {},
   "outputs": [],
   "source": [
    "def next_state(neurons, probability_matrix, initial_state):\n",
    "    \n",
    "    product = 1\n",
    "    final_state = np.zeros(neurons)\n",
    "    \n",
    "    \n",
    "    for i in range(neurons):\n",
    "        for j in range(neurons):\n",
    "            product = product * (1-probability_matrix[i,j]*initial_state[j])\n",
    "        expectation_values[i]=1-product\n",
    "    #print(expectation_values)\n",
    "    for i in range(neurons):\n",
    "        random = np.random.random(1)\n",
    "        if random < expectation_values[i]:\n",
    "            final_state[i] = 1\n",
    "        else:\n",
    "            final_state[i] = 0\n",
    "    print(final_state)\n",
    "    return(final_state)"
   ]
  },
  {
   "cell_type": "markdown",
   "metadata": {},
   "source": [
    "The following cell generates a state for every time $t+1$ based on the state at time $t$."
   ]
  },
  {
   "cell_type": "code",
   "execution_count": 218,
   "metadata": {},
   "outputs": [
    {
     "name": "stdout",
     "output_type": "stream",
     "text": [
      "[0. 1.]\n",
      "[1. 1.]\n",
      "[1. 1.]\n",
      "[1. 1.]\n",
      "[1. 1.]\n",
      "[1. 1.]\n",
      "[1. 1.]\n",
      "[1. 1.]\n",
      "[1. 1.]\n",
      "[1. 1.]\n",
      "[1. 1.]\n",
      "[1. 1.]\n",
      "[1. 1.]\n",
      "[1. 1.]\n",
      "[1. 1.]\n",
      "[1. 1.]\n",
      "[1. 1.]\n",
      "[1. 1.]\n",
      "[1. 1.]\n",
      "[1. 1.]\n",
      "[1. 1.]\n",
      "[1. 1.]\n",
      "[1. 1.]\n",
      "[1. 1.]\n",
      "[1. 1.]\n",
      "[1. 1.]\n",
      "[1. 1.]\n",
      "[1. 1.]\n",
      "[1. 1.]\n",
      "[1. 1.]\n",
      "[1. 1.]\n",
      "[1. 1.]\n",
      "[1. 1.]\n",
      "[1. 1.]\n",
      "[1. 1.]\n",
      "[1. 1.]\n",
      "[1. 1.]\n",
      "[1. 1.]\n",
      "[1. 1.]\n",
      "[1. 1.]\n",
      "[1. 1.]\n",
      "[1. 1.]\n",
      "[1. 1.]\n",
      "[1. 1.]\n",
      "[1. 1.]\n",
      "[1. 1.]\n",
      "[1. 1.]\n",
      "[1. 1.]\n",
      "[1. 1.]\n",
      "[1. 1.]\n",
      "[1. 1.]\n",
      "[1. 1.]\n",
      "[1. 1.]\n",
      "[1. 1.]\n",
      "[1. 1.]\n",
      "[1. 1.]\n",
      "[1. 1.]\n",
      "[1. 1.]\n",
      "[1. 1.]\n",
      "[1. 1.]\n",
      "[1. 1.]\n",
      "[1. 1.]\n",
      "[1. 1.]\n",
      "[1. 1.]\n",
      "[1. 1.]\n",
      "[1. 1.]\n",
      "[1. 1.]\n",
      "[1. 1.]\n",
      "[1. 1.]\n",
      "[1. 1.]\n",
      "[1. 1.]\n",
      "[1. 1.]\n",
      "[1. 1.]\n",
      "[1. 1.]\n",
      "[1. 1.]\n",
      "[1. 1.]\n",
      "[1. 1.]\n",
      "[1. 1.]\n",
      "[1. 1.]\n",
      "[1. 1.]\n",
      "[1. 1.]\n",
      "[1. 1.]\n",
      "[1. 1.]\n",
      "[1. 1.]\n",
      "[1. 1.]\n",
      "[1. 1.]\n",
      "[1. 1.]\n",
      "[1. 1.]\n",
      "[1. 1.]\n",
      "[1. 1.]\n",
      "[1. 1.]\n",
      "[1. 1.]\n",
      "[1. 1.]\n",
      "[1. 1.]\n",
      "[1. 1.]\n",
      "[1. 1.]\n",
      "[1. 1.]\n",
      "[1. 1.]\n",
      "[1. 1.]\n",
      "[1. 1.]\n"
     ]
    }
   ],
   "source": [
    "for t in range(time):\n",
    "    initial_state = next_state(neurons, probability_matrix, initial_state)"
   ]
  },
  {
   "cell_type": "code",
   "execution_count": null,
   "metadata": {},
   "outputs": [],
   "source": []
  }
 ],
 "metadata": {
  "kernelspec": {
   "display_name": "Python 3",
   "language": "python",
   "name": "python3"
  },
  "language_info": {
   "codemirror_mode": {
    "name": "ipython",
    "version": 3
   },
   "file_extension": ".py",
   "mimetype": "text/x-python",
   "name": "python",
   "nbconvert_exporter": "python",
   "pygments_lexer": "ipython3",
   "version": "3.6.5"
  }
 },
 "nbformat": 4,
 "nbformat_minor": 2
}
