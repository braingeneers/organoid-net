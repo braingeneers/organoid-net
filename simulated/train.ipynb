{
 "cells": [
  {
   "cell_type": "markdown",
   "metadata": {},
   "source": [
    "# Train Classifier on Simulated Data\n",
    "\n",
    "Train a classifier on Alex's [simulated data](https://github.com/braingeneers/braingeneers/issues/3). The simulated PNG's with labels have been converted into Tensorflow's native binary format, tfrecords via an [ingest notebook](https://github.com/braingeneers/organoid-net/blob/master/simulated/ingest.ipynb) and stored in the PRP S3/CEPH store so they are publicly accesible."
   ]
  },
  {
   "cell_type": "code",
   "execution_count": 1,
   "metadata": {},
   "outputs": [
    {
     "name": "stdout",
     "output_type": "stream",
     "text": [
      "GPU Available: False\n",
      "S3_ENDPOINT: s3.nautilus.optiputer.net\n",
      "DEBUG: ON\n"
     ]
    }
   ],
   "source": [
    "import os\n",
    "import requests\n",
    "\n",
    "import numpy as np\n",
    "import matplotlib.pyplot as plt\n",
    "\n",
    "import tensorflow as tf\n",
    "# DistributionStrategy is not supported when eager execution is enabled...sigh....\n",
    "# tf.enable_eager_execution()\n",
    "\n",
    "np.random.seed(42)  # reproducibility\n",
    "\n",
    "# See if we have a GPU - if not check Edit->Notebook Settings for GPU/TPU options\n",
    "# In a prelimary test the GPU took ~2.5 minutes to train vs. ~4-5 minutes for the TPU,\n",
    "# but the TPU required less power and therefore is the green choice :-)\n",
    "print(\"GPU Available:\", tf.test.is_gpu_available())\n",
    "\n",
    "# Set so that Tensorflow can pull from the PRP S3/CEPH storage cluster\n",
    "# Check if already set as when running in k8s we'll set a local\n",
    "# endpoint so we can pull from multiple OSD's in parallel\n",
    "if \"S3_ENDPOINT\" not in os.environ:\n",
    "    os.environ[\"S3_ENDPOINT\"] = \"s3.nautilus.optiputer.net\"\n",
    "print(\"S3_ENDPOINT:\", os.environ[\"S3_ENDPOINT\"])\n",
    "\n",
    "# Simple syntatic sugar for debug vs. train parameters\n",
    "def debug(debug_param, no_debug_param):\n",
    "    return debug_param if os.environ.get(\"DEBUG\") else no_debug_param\n",
    "print(debug(\"DEBUG: ON\", \"DEBUG: OFF\"))"
   ]
  },
  {
   "cell_type": "code",
   "execution_count": 2,
   "metadata": {},
   "outputs": [
    {
     "data": {
      "text/plain": [
       "dict_keys(['num_train_examples', 'description', 'data_set', 'image_width', 'labels', 'test_examples_name', 'num_test_examples', 'image_height', 'train_examples_name'])"
      ]
     },
     "execution_count": 2,
     "metadata": {},
     "output_type": "execute_result"
    }
   ],
   "source": [
    "# Load metadata about the dataset\n",
    "metadata = requests.get(\"https://s3.nautilus.optiputer.net/braingeneers/fashion-mnist/metadata.json\").json()\n",
    "# metadata = requests.get(\"https://s3.nautilus.optiputer.net/braingeneers/simulated/metadata.json\").json()\n",
    "metadata.keys()"
   ]
  },
  {
   "cell_type": "code",
   "execution_count": 3,
   "metadata": {},
   "outputs": [],
   "source": [
    "# Initialize model params - we'll store final hyper parameters here as well\n",
    "params = {\"batch_size\": 128}"
   ]
  },
  {
   "cell_type": "markdown",
   "metadata": {},
   "source": [
    "## Tensor Flow Dataset\n",
    "\n",
    "For this small of a dataset this is overkill. But it demonstrates how to build a lazy data pipeline with data modification such that it will feed the Tensorflow engine natively at training time. Data augmentation via tf.image.* can easily be added and this general pattern will likely be useful when we have big data sets and video in PRP."
   ]
  },
  {
   "cell_type": "code",
   "execution_count": 8,
   "metadata": {},
   "outputs": [
    {
     "name": "stdout",
     "output_type": "stream",
     "text": [
      "First image shape: (28, 28, 1)\n"
     ]
    },
    {
     "data": {
      "text/plain": [
       "<matplotlib.image.AxesImage at 0x7fa0a1044c50>"
      ]
     },
     "execution_count": 8,
     "metadata": {},
     "output_type": "execute_result"
    },
    {
     "data": {
      "image/png": "[encoded data removed]",
      "text/plain": [
       "<Figure size 432x288 with 1 Axes>"
      ]
     },
     "metadata": {
      "needs_background": "light"
     },
     "output_type": "display_data"
    }
   ],
   "source": [
    "def parse_one_example(example):\n",
    "    example = tf.parse_single_example(example, features = {\n",
    "        \"example\": tf.FixedLenFeature([], tf.string),\n",
    "        \"label\": tf.FixedLenFeature([], tf.int64)\n",
    "    })\n",
    "    \n",
    "    image = tf.image.decode_png(example[\"example\"], channels=1)\n",
    "#     image = tf.image.resize_images(\n",
    "#         image, [metadata[\"image_height\"] // 8, metadata[\"image_width\"] // 8])\n",
    "    image = tf.image.per_image_standardization(image)\n",
    "    \n",
    "    label = tf.one_hot(example[\"label\"], len(metadata[\"labels\"]))\n",
    "    \n",
    "    return image, label\n",
    "\n",
    "def create_dataset(files, batch_size, num_classes):\n",
    "    dataset = tf.data.TFRecordDataset(files)\n",
    "    dataset = dataset.map(parse_one_example)\n",
    "    dataset = dataset.map(parse_one_example, num_parallel_calls=8)\n",
    "    dataset.cache(\"tensorflow.cache\")\n",
    "    dataset = dataset.shuffle(8 * num_classes)\n",
    "    dataset = dataset.repeat()\n",
    "    dataset = dataset.batch(batch_size)\n",
    "    dataset = dataset.prefetch(1)\n",
    "    return dataset\n",
    "\n",
    "training_dataset = create_dataset(\n",
    "    [\"s3://braingeneers/{}/{}\".format(metadata[\"data_set\"], metadata[\"train_examples_name\"])],\n",
    "    params[\"batch_size\"], len(metadata[\"labels\"]))\n",
    "test_dataset = create_dataset(\n",
    "    [\"s3://braingeneers/{}/{}\".format(metadata[\"data_set\"], metadata[\"test_examples_name\"])],\n",
    "    params[\"batch_size\"], len(metadata[\"labels\"]))\n",
    "\n",
    "# # Display the first image of a batch as a check\n",
    "examples, labels = training_dataset.make_one_shot_iterator().get_next()\n",
    "\n",
    "# Non Eager Mode\n",
    "with tf.Session() as sess:\n",
    "    first_image = sess.run(examples)[0]\n",
    "\n",
    "# Eager Mode\n",
    "# first_image = examples[0].numpy()\n",
    "    \n",
    "print(\"First image shape:\", first_image.shape)\n",
    "plt.imshow(first_image.reshape(first_image.shape[0], first_image.shape[1]), cmap=\"gray\")"
   ]
  },
  {
   "cell_type": "markdown",
   "metadata": {},
   "source": [
    "## Model and Train\n",
    "\n",
    "Copied directly from googles [MNIST on Keras](https://github.com/keras-team/keras/blob/master/examples/mnist_cnn.py) hello world which achieves very high accuracy on MNIST...not so much here..."
   ]
  },
  {
   "cell_type": "code",
   "execution_count": 9,
   "metadata": {},
   "outputs": [
    {
     "name": "stdout",
     "output_type": "stream",
     "text": [
      "_________________________________________________________________\n",
      "Layer (type)                 Output Shape              Param #   \n",
      "=================================================================\n",
      "input (InputLayer)           (None, 28, 28, 1)         0         \n",
      "_________________________________________________________________\n",
      "conv2d (Conv2D)              (None, 26, 26, 32)        320       \n",
      "_________________________________________________________________\n",
      "conv2d_1 (Conv2D)            (None, 24, 24, 64)        18496     \n",
      "_________________________________________________________________\n",
      "max_pooling2d (MaxPooling2D) (None, 12, 12, 64)        0         \n",
      "_________________________________________________________________\n",
      "dropout (Dropout)            (None, 12, 12, 64)        0         \n",
      "_________________________________________________________________\n",
      "flatten (Flatten)            (None, 9216)              0         \n",
      "_________________________________________________________________\n",
      "dense (Dense)                (None, 128)               1179776   \n",
      "_________________________________________________________________\n",
      "dropout_1 (Dropout)          (None, 128)               0         \n",
      "_________________________________________________________________\n",
      "output (Dense)               (None, 10)                1290      \n",
      "=================================================================\n",
      "Total params: 1,199,882\n",
      "Trainable params: 1,199,882\n",
      "Non-trainable params: 0\n",
      "_________________________________________________________________\n",
      "Epoch 1/1\n",
      "10/10 [==============================] - 6s 632ms/step - loss: 2.3304 - acc: 0.1250\n",
      "1/1 [==============================] - 0s 312ms/step\n",
      "Test loss 2.317080020904541 accuracy: 0.125\n"
     ]
    }
   ],
   "source": [
    "def create_model(input_shape, output_shape):\n",
    "    input_layer = tf.keras.Input(shape=input_shape, name=\"input\")\n",
    "\n",
    "    x = tf.keras.layers.Conv2D(32, (3, 3), activation=\"relu\")(input_layer)\n",
    "    x = tf.keras.layers.Conv2D(64, (3, 3), activation=\"relu\")(x)\n",
    "    x = tf.keras.layers.MaxPooling2D(pool_size=(2, 2))(x)\n",
    "    x = tf.keras.layers.Dropout(0.25)(x)\n",
    "    x = tf.keras.layers.Flatten()(x)\n",
    "    x = tf.keras.layers.Dense(128, activation=\"relu\")(x)\n",
    "    x = tf.keras.layers.Dropout(0.5)(x)\n",
    "    \n",
    "    output_layer = tf.keras.layers.Dense(output_shape, activation=\"softmax\", name=\"output\")(x)\n",
    "        \n",
    "    return tf.keras.Model(inputs=input_layer, outputs=output_layer)\n",
    "\n",
    "model = create_model(input_shape=(first_image.shape[0], first_image.shape[1], 1),\n",
    "                     output_shape=len(metadata[\"labels\"]))\n",
    "\n",
    "\n",
    "if os.environ.get(\"DEBUG\"):\n",
    "    model.compile(loss=tf.keras.losses.categorical_crossentropy,\n",
    "                  metrics=['accuracy'],\n",
    "                  optimizer=tf.train.AdadeltaOptimizer())\n",
    "else:\n",
    "    model.compile(loss=tf.keras.losses.categorical_crossentropy,\n",
    "                  metrics=['accuracy'],\n",
    "                  optimizer=tf.train.AdadeltaOptimizer(),\n",
    "                  distribute=tf.contrib.distribute.MirroredStrategy())\n",
    "\n",
    "model.summary()\n",
    "\n",
    "\n",
    "# Train using multiple GPUS: https://github.com/tensorflow/tensorflow/tree/master/tensorflow/contrib/distribute\n",
    "model.fit(training_dataset, epochs=debug(1, 10), verbose=1, \n",
    "          steps_per_epoch=debug(10, metadata[\"num_train_examples\"] // params[\"batch_size\"]))\n",
    "\n",
    "score = model.evaluate(test_dataset, steps=1, verbose=1)\n",
    "print(\"Test loss\", score[0], \"accuracy:\", score[1])"
   ]
  }
 ],
 "metadata": {
  "kernelspec": {
   "display_name": "Python 3",
   "language": "python",
   "name": "python3"
  },
  "language_info": {
   "codemirror_mode": {
    "name": "ipython",
    "version": 3
   },
   "file_extension": ".py",
   "mimetype": "text/x-python",
   "name": "python",
   "nbconvert_exporter": "python",
   "pygments_lexer": "ipython3",
   "version": "3.5.2"
  }
 },
 "nbformat": 4,
 "nbformat_minor": 2
}
