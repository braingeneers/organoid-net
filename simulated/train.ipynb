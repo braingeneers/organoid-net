{
 "cells": [
  {
   "cell_type": "markdown",
   "metadata": {},
   "source": [
    "# Train Simulated Data Classifier\n",
    "\n",
    "Train a classifier on Alex's [simulated data](https://github.com/braingeneers/organoid-net/issues/3). The simulated PNG's with labels have been converted into Tensorflow's native binary format, tfrecords via an [ingest notebook](https://github.com/braingeneers/organoid-net/blob/master/simulated/ingest.ipynb) and stored in the PRP S3/CEPH store so they are publicly accesible. If we can classify we can identify which features/pixels in the input image are being stimulated by whatever is stimulating the organoid and thereby determine if output is based on input."
   ]
  },
  {
   "cell_type": "code",
   "execution_count": 1,
   "metadata": {},
   "outputs": [
    {
     "name": "stdout",
     "output_type": "stream",
     "text": [
      "GPU Available: False\n",
      "DEBUG: ON\n"
     ]
    }
   ],
   "source": [
    "import os\n",
    "import json\n",
    "import requests\n",
    "\n",
    "import numpy as np\n",
    "import matplotlib.pyplot as plt\n",
    "\n",
    "np.random.seed(42)  # reproducibility\n",
    "\n",
    "import tensorflow as tf\n",
    "# Eager mode and multi-gpu training have some issues with Keras currently (tf 1.12)\n",
    "# https://github.com/tensorflow/tensorflow/issues/20999\n",
    "# tf.enable_eager_execution()\n",
    "\n",
    "# See if we have a GPU - if not check Edit->Notebook Settings for GPU/TPU options\n",
    "# In a prelimary test the GPU took ~2.5 minutes to train vs. ~4-5 minutes for the TPU,\n",
    "# but the TPU required less power and therefore is the green choice :-)\n",
    "print(\"GPU Available:\", tf.test.is_gpu_available())\n",
    "\n",
    "# Turn down the significant TF debugging output when hitting S3\n",
    "# 0=All, 1=Filter Info, 2=Filter Warning, 3=Filter Error\n",
    "os.environ[\"TF_CPP_MIN_LOG_LEVEL\"] = \"1\"\n",
    "\n",
    "# Simple syntatic sugar for debug vs. train parameters\n",
    "def debug(debug_param, no_debug_param):\n",
    "    return debug_param if os.environ.get(\"DEBUG\") else no_debug_param\n",
    "print(debug(\"DEBUG: ON\", \"DEBUG: OFF\"))"
   ]
  },
  {
   "cell_type": "code",
   "execution_count": 2,
   "metadata": {},
   "outputs": [
    {
     "name": "stdout",
     "output_type": "stream",
     "text": [
      "S3 Profile: prp Endpoint: https://s3.nautilus.optiputer.net Bucket: braingeneers\n"
     ]
    }
   ],
   "source": [
    "# Connect to S3 via boto3 so we can read and write\n",
    "import boto3\n",
    "\n",
    "bucket_name = \"braingeneers\"\n",
    "\n",
    "session = boto3.session.Session(profile_name=os.getenv(\"AWS_PROFILE\"))\n",
    "bucket = session.resource(\n",
    "    \"s3\", endpoint_url=os.getenv(\"AWS_S3_ENDPOINT\")).Bucket(bucket_name)\n",
    "print(\"S3 Profile: {} Endpoint: {} Bucket: {}\".format(\n",
    "    os.getenv(\"AWS_PROFILE\"), os.getenv(\"AWS_S3_ENDPOINT\"), bucket_name))"
   ]
  },
  {
   "cell_type": "code",
   "execution_count": 3,
   "metadata": {},
   "outputs": [
    {
     "name": "stdout",
     "output_type": "stream",
     "text": [
      "Reading simulated dataset\n",
      "Dataset metadata keys: ['image_height', 'num_test_examples', 'num_train_examples', 'test_examples_name', 'data_set', 'train_examples_name', 'description', 'labels', 'image_width']\n",
      "8000 train and 2000 test samples with 49 labels\n"
     ]
    }
   ],
   "source": [
    "# Read in metadata for a dataset\n",
    "dataset_name = \"simulated\"\n",
    "print(\"Reading {} dataset\".format(dataset_name))\n",
    "\n",
    "metadata = json.loads(bucket.Object(\n",
    "    dataset_name + \"/metadata.json\").get()['Body'].read().decode('utf-8'))\n",
    "print(\"Dataset metadata keys:\", list(metadata.keys()))\n",
    "print(\"{} train and {} test samples with {} labels\".format(\n",
    "    metadata[\"num_train_examples\"], metadata[\"num_test_examples\"], len(metadata[\"labels\"])))"
   ]
  },
  {
   "cell_type": "markdown",
   "metadata": {},
   "source": [
    "## Tensor Flow Dataset\n",
    "\n",
    "For this small of a dataset this is overkill. But it demonstrates how to build a lazy data pipeline with data modification such that it will feed the Tensorflow engine natively at training time. Data augmentation via tf.image.* can easily be added and this general pattern will likely be useful when we have big data sets and video in PRP."
   ]
  },
  {
   "cell_type": "code",
   "execution_count": 4,
   "metadata": {},
   "outputs": [],
   "source": [
    "batch_size = 128\n",
    "\n",
    "def parse_one_example(example):\n",
    "    example = tf.parse_single_example(example, features = {\n",
    "        \"example\": tf.FixedLenFeature([], tf.string),\n",
    "        \"label\": tf.FixedLenFeature([], tf.int64)\n",
    "    })\n",
    "    \n",
    "    # Extract the png from the example and convert to numpy\n",
    "    image = tf.image.decode_png(example[\"example\"], channels=1)\n",
    "    \n",
    "    # Optionally resize the image to reduce the size of the neural network\n",
    "    image = tf.image.resize_images(\n",
    "        image, [metadata[\"image_height\"] // 4, metadata[\"image_width\"] // 4])\n",
    "    image = tf.image.per_image_standardization(image)\n",
    "    \n",
    "    # One hot encode our label\n",
    "    label = tf.one_hot(example[\"label\"], len(metadata[\"labels\"]))\n",
    "    \n",
    "    return image, label\n",
    "\n",
    "def create_dataset(files, batch_size, num_classes):\n",
    "    # Create a data pipeline with shuffling and parallel loading\n",
    "    # See https://www.tensorflow.org/guide/performance/datasets\n",
    "    dataset = tf.data.TFRecordDataset(files)\n",
    "    dataset = dataset.map(parse_one_example, num_parallel_calls=8)\n",
    "    dataset.cache(\"tensorflow.cache\")\n",
    "    dataset = dataset.shuffle(8 * num_classes)\n",
    "    dataset = dataset.repeat()\n",
    "    dataset = dataset.batch(batch_size)\n",
    "    dataset = dataset.prefetch(1)\n",
    "    return dataset\n",
    "\n",
    "training_dataset = create_dataset(\n",
    "    [\"s3://braingeneers/{}/{}\".format(metadata[\"data_set\"], metadata[\"train_examples_name\"])],\n",
    "    batch_size, len(metadata[\"labels\"]))\n",
    "test_dataset = create_dataset(\n",
    "    [\"s3://braingeneers/{}/{}\".format(metadata[\"data_set\"], metadata[\"test_examples_name\"])],\n",
    "    batch_size, len(metadata[\"labels\"]))"
   ]
  },
  {
   "cell_type": "code",
   "execution_count": 5,
   "metadata": {},
   "outputs": [
    {
     "name": "stdout",
     "output_type": "stream",
     "text": [
      "First image shape: (87, 115, 1)\n"
     ]
    },
    {
     "data": {
      "text/plain": [
       "<matplotlib.image.AxesImage at 0x7f7c28545128>"
      ]
     },
     "execution_count": 5,
     "metadata": {},
     "output_type": "execute_result"
    },
    {
     "data": {
      "image/png": "[encoded data removed]",
      "text/plain": [
       "<Figure size 432x288 with 1 Axes>"
      ]
     },
     "metadata": {
      "needs_background": "light"
     },
     "output_type": "display_data"
    }
   ],
   "source": [
    "# Display the first image of a batch as a check as well as to get the dimensions\n",
    "examples, labels = training_dataset.make_one_shot_iterator().get_next()\n",
    "\n",
    "# Eager Mode\n",
    "# first_image = examples[0].numpy()\n",
    "\n",
    "# Non Eager Mode\n",
    "with tf.Session() as sess:\n",
    "    first_image = sess.run(examples)[0]\n",
    "\n",
    "print(\"First image shape:\", first_image.shape)\n",
    "plt.imshow(first_image.reshape(first_image.shape[0], first_image.shape[1]), cmap=\"gray\")"
   ]
  },
  {
   "cell_type": "markdown",
   "metadata": {},
   "source": [
    "## Build Model and Train"
   ]
  },
  {
   "cell_type": "code",
   "execution_count": 8,
   "metadata": {},
   "outputs": [
    {
     "name": "stdout",
     "output_type": "stream",
     "text": [
      "_________________________________________________________________\n",
      "Layer (type)                 Output Shape              Param #   \n",
      "=================================================================\n",
      "input (InputLayer)           (None, 87, 115, 1)        0         \n",
      "_________________________________________________________________\n",
      "conv2d_2 (Conv2D)            (None, 85, 113, 64)       640       \n",
      "_________________________________________________________________\n",
      "max_pooling2d_2 (MaxPooling2 (None, 42, 56, 64)        0         \n",
      "_________________________________________________________________\n",
      "dropout_2 (Dropout)          (None, 42, 56, 64)        0         \n",
      "_________________________________________________________________\n",
      "flatten_2 (Flatten)          (None, 150528)            0         \n",
      "_________________________________________________________________\n",
      "batch_normalization_2 (Batch (None, 150528)            602112    \n",
      "_________________________________________________________________\n",
      "output (Dense)               (None, 49)                7375921   \n",
      "=================================================================\n",
      "Total params: 7,978,673\n",
      "Trainable params: 7,677,617\n",
      "Non-trainable params: 301,056\n",
      "_________________________________________________________________\n",
      "Epoch 1/1\n",
      "1/1 [==============================] - 13s 13s/step - loss: 4.4252 - acc: 0.0234\n",
      "1/1 [==============================] - 7s 7s/step\n",
      "[3.387908697128296, 0.0859375]\n"
     ]
    }
   ],
   "source": [
    "def create_model(input_shape, output_shape):\n",
    "\n",
    "    input_layer = tf.keras.Input(shape=input_shape, name=\"input\")\n",
    "\n",
    "    x = tf.keras.layers.Conv2D(64, (3, 3), activation=\"relu\")(input_layer)\n",
    "    x = tf.keras.layers.MaxPooling2D(pool_size=(2, 2))(x)\n",
    "    x = tf.keras.layers.Dropout(0.25)(x)\n",
    "    x = tf.keras.layers.Flatten()(x)\n",
    "    x = tf.keras.layers.BatchNormalization()(x)   \n",
    "\n",
    "    output_layer = tf.keras.layers.Dense(output_shape, activation=\"softmax\", name=\"output\")(x)\n",
    "        \n",
    "    model = tf.keras.Model(inputs=input_layer, outputs=output_layer)\n",
    "    model.compile(loss=tf.keras.losses.categorical_crossentropy,\n",
    "                  metrics=['accuracy'],\n",
    "                  optimizer=tf.keras.optimizers.Adam())\n",
    "    return model\n",
    "\n",
    "model = create_model(input_shape=(first_image.shape[0], first_image.shape[1], 1),\n",
    "                     output_shape=len(metadata[\"labels\"]))\n",
    "model.summary()\n",
    "\n",
    "model.fit(training_dataset, epochs=debug(1, 10), verbose=1, \n",
    "          steps_per_epoch=debug(1, metadata[\"num_train_examples\"] // batch_size),\n",
    "          callbacks = [tf.keras.callbacks.EarlyStopping(\n",
    "              monitor=\"loss\", min_delta=0.5, patience=3, verbose=0, mode='auto')])\n",
    "\n",
    "loss = model.evaluate(test_dataset, steps=1)\n",
    "print(\"Loss: {} Accuracy: {}\".format(loss[0], loss[1]))"
   ]
  },
  {
   "cell_type": "code",
   "execution_count": 12,
   "metadata": {},
   "outputs": [
    {
     "name": "stdout",
     "output_type": "stream",
     "text": [
      "Saved trained model to rcurrie/simulated/models/model.h5\n"
     ]
    }
   ],
   "source": [
    "# Save the trained model back to S3 under our username so we don't overwrite other's\n",
    "import tempfile\n",
    "src = \"/tmp/{}.h5\".format(next(tempfile._get_candidate_names()))\n",
    "model.save(src)\n",
    "\n",
    "dest = \"{}/{}/models/model.h5\".format(os.environ[\"USER\"], metadata[\"data_set\"])\n",
    "bucket.Object(dest).upload_file(src, ExtraArgs={\"ACL\":\"public-read\"})\n",
    "os.remove(src)\n",
    "\n",
    "print(\"Saved trained model to {}\".format(dest))"
   ]
  }
 ],
 "metadata": {
  "kernelspec": {
   "display_name": "Python 3",
   "language": "python",
   "name": "python3"
  },
  "language_info": {
   "codemirror_mode": {
    "name": "ipython",
    "version": 3
   },
   "file_extension": ".py",
   "mimetype": "text/x-python",
   "name": "python",
   "nbconvert_exporter": "python",
   "pygments_lexer": "ipython3",
   "version": "3.5.2"
  }
 },
 "nbformat": 4,
 "nbformat_minor": 2
}
