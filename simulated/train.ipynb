{
 "cells": [
  {
   "cell_type": "markdown",
   "metadata": {},
   "source": [
    "# Train Classifier on Simulated Data\n",
    "\n",
    "Train a classifier on Alex's [simulated data](https://github.com/braingeneers/braingeneers/issues/3). The simulated PNG's with labels have been converted into Tensorflow's native binary format, tfrecords via an [ingest notebook](https://github.com/braingeneers/organoid-net/blob/master/simulated/ingest.ipynb) and stored in the PRP S3/CEPH store so they are publicly accesible."
   ]
  },
  {
   "cell_type": "code",
   "execution_count": 3,
   "metadata": {},
   "outputs": [
    {
     "name": "stdout",
     "output_type": "stream",
     "text": [
      "GPU Available: False\n",
      "DEBUG: ON\n"
     ]
    }
   ],
   "source": [
    "import os\n",
    "import json\n",
    "import requests\n",
    "\n",
    "import numpy as np\n",
    "import matplotlib.pyplot as plt\n",
    "\n",
    "np.random.seed(42)  # reproducibility\n",
    "\n",
    "import tensorflow as tf\n",
    "# DistributionStrategy is not supported when eager execution is enabled...sigh....\n",
    "# tf.enable_eager_execution()\n",
    "\n",
    "# See if we have a GPU - if not check Edit->Notebook Settings for GPU/TPU options\n",
    "# In a prelimary test the GPU took ~2.5 minutes to train vs. ~4-5 minutes for the TPU,\n",
    "# but the TPU required less power and therefore is the green choice :-)\n",
    "print(\"GPU Available:\", tf.test.is_gpu_available())\n",
    "\n",
    "# TF outputs quite a bit of logging form TFDataset when sourcing from S3\n",
    "# 0=All, 1=Filter Info, 2=Filter Warning, 3=Filter Error\n",
    "os.environ[\"TF_CPP_MIN_LOG_LEVEL\"] = \"1\"\n",
    "\n",
    "# Simple syntatic sugar for debug vs. train parameters\n",
    "def debug(debug_param, no_debug_param):\n",
    "    return debug_param if os.environ.get(\"DEBUG\") else no_debug_param\n",
    "print(debug(\"DEBUG: ON\", \"DEBUG: OFF\"))"
   ]
  },
  {
   "cell_type": "code",
   "execution_count": 4,
   "metadata": {},
   "outputs": [
    {
     "name": "stdout",
     "output_type": "stream",
     "text": [
      "S3 Profile: prp Endpoint: https://s3.nautilus.optiputer.net Bucket: braingeneers\n"
     ]
    }
   ],
   "source": [
    "import boto3\n",
    "\n",
    "bucket_name = \"braingeneers\"\n",
    "\n",
    "session = boto3.session.Session(profile_name=os.getenv(\"AWS_PROFILE\"))\n",
    "bucket = session.resource(\n",
    "    \"s3\", endpoint_url=os.getenv(\"AWS_S3_ENDPOINT\")).Bucket(bucket_name)\n",
    "print(\"S3 Profile: {} Endpoint: {} Bucket: {}\".format(\n",
    "    os.getenv(\"AWS_PROFILE\"), os.getenv(\"AWS_S3_ENDPOINT\"), bucket_name))"
   ]
  },
  {
   "cell_type": "code",
   "execution_count": 5,
   "metadata": {},
   "outputs": [
    {
     "name": "stdout",
     "output_type": "stream",
     "text": [
      "Reading simulated dataset\n",
      "Dataset metadata keys: ['image_width', 'image_height', 'labels', 'description', 'data_set', 'train_examples_name', 'num_train_examples', 'test_examples_name', 'num_test_examples']\n",
      "8000 train and 2000 test samples with 49 labels\n"
     ]
    }
   ],
   "source": [
    "# Read in metadata for a dataset\n",
    "dataset_name = \"simulated\"\n",
    "print(\"Reading {} dataset\".format(dataset_name))\n",
    "\n",
    "metadata = json.loads(bucket.Object(\n",
    "    dataset_name + \"/metadata.json\").get()['Body'].read().decode('utf-8'))\n",
    "print(\"Dataset metadata keys:\", list(metadata.keys()))\n",
    "print(\"{} train and {} test samples with {} labels\".format(\n",
    "    metadata[\"num_train_examples\"], metadata[\"num_test_examples\"], len(metadata[\"labels\"])))"
   ]
  },
  {
   "cell_type": "markdown",
   "metadata": {},
   "source": [
    "## Tensor Flow Dataset\n",
    "\n",
    "For this small of a dataset this is overkill. But it demonstrates how to build a lazy data pipeline with data modification such that it will feed the Tensorflow engine natively at training time. Data augmentation via tf.image.* can easily be added and this general pattern will likely be useful when we have big data sets and video in PRP."
   ]
  },
  {
   "cell_type": "code",
   "execution_count": 11,
   "metadata": {},
   "outputs": [
    {
     "name": "stdout",
     "output_type": "stream",
     "text": [
      "First image shape: (87, 115, 1)\n"
     ]
    },
    {
     "data": {
      "text/plain": [
       "<matplotlib.image.AxesImage at 0x7fc4602b75f8>"
      ]
     },
     "execution_count": 11,
     "metadata": {},
     "output_type": "execute_result"
    },
    {
     "data": {
      "image/png": "[encoded data removed]",
      "text/plain": [
       "<Figure size 432x288 with 1 Axes>"
      ]
     },
     "metadata": {
      "needs_background": "light"
     },
     "output_type": "display_data"
    }
   ],
   "source": [
    "batch_size = 128\n",
    "\n",
    "def parse_one_example(example):\n",
    "    example = tf.parse_single_example(example, features = {\n",
    "        \"example\": tf.FixedLenFeature([], tf.string),\n",
    "        \"label\": tf.FixedLenFeature([], tf.int64)\n",
    "    })\n",
    "    \n",
    "    image = tf.image.decode_png(example[\"example\"], channels=1)\n",
    "    image = tf.image.resize_images(\n",
    "        image, [metadata[\"image_height\"] // 4, metadata[\"image_width\"] // 4])\n",
    "    image = tf.image.per_image_standardization(image)\n",
    "    \n",
    "    label = tf.one_hot(example[\"label\"], len(metadata[\"labels\"]))\n",
    "    \n",
    "    return image, label\n",
    "\n",
    "def create_dataset(files, batch_size, num_classes):\n",
    "    dataset = tf.data.TFRecordDataset(files)\n",
    "    dataset = dataset.map(parse_one_example, num_parallel_calls=8)\n",
    "    dataset.cache(\"tensorflow.cache\")\n",
    "    dataset = dataset.shuffle(8 * num_classes)\n",
    "    dataset = dataset.repeat()\n",
    "    dataset = dataset.batch(batch_size)\n",
    "    dataset = dataset.prefetch(1)\n",
    "    return dataset\n",
    "\n",
    "training_dataset = create_dataset(\n",
    "    [\"s3://braingeneers/{}/{}\".format(metadata[\"data_set\"], metadata[\"train_examples_name\"])],\n",
    "    batch_size, len(metadata[\"labels\"]))\n",
    "test_dataset = create_dataset(\n",
    "    [\"s3://braingeneers/{}/{}\".format(metadata[\"data_set\"], metadata[\"test_examples_name\"])],\n",
    "    batch_size, len(metadata[\"labels\"]))\n",
    "\n",
    "# # Display the first image of a batch as a check\n",
    "examples, labels = training_dataset.make_one_shot_iterator().get_next()\n",
    "\n",
    "# Non Eager Mode\n",
    "with tf.Session() as sess:\n",
    "    first_image = sess.run(examples)[0]\n",
    "\n",
    "# Eager Mode\n",
    "# first_image = examples[0].numpy()\n",
    "    \n",
    "print(\"First image shape:\", first_image.shape)\n",
    "plt.imshow(first_image.reshape(first_image.shape[0], first_image.shape[1]), cmap=\"gray\")"
   ]
  },
  {
   "cell_type": "markdown",
   "metadata": {},
   "source": [
    "## Model and Train"
   ]
  },
  {
   "cell_type": "code",
   "execution_count": 12,
   "metadata": {},
   "outputs": [],
   "source": [
    "# From https://github.com/mbernico/deep_learning_quick_reference/blob/master/chapter_6/mnist_hyperband_search.py\n",
    "import numpy as np\n",
    "import random\n",
    "from math import log, ceil\n",
    "from time import time, ctime\n",
    "\n",
    "class Hyperband:\n",
    "    def __init__(self, data, get_params_function, try_params_function, max_iter=81):\n",
    "        self.data = data\n",
    "        self.get_params = get_params_function\n",
    "        self.try_params = try_params_function\n",
    "\n",
    "        self.max_iter = max_iter  # maximum iterations per configuration\n",
    "        self.eta = 3  # defines configuration downsampling rate (default = 3)\n",
    "\n",
    "        self.logeta = lambda x: log(x) / log(self.eta)\n",
    "        self.s_max = int(self.logeta(self.max_iter))\n",
    "        self.B = (self.s_max + 1) * self.max_iter\n",
    "\n",
    "        self.results = []  # list of dicts\n",
    "        self.counter = 0\n",
    "        self.best_loss = np.inf\n",
    "        self.best_counter = -1\n",
    "\n",
    "    # can be called multiple times\n",
    "    def run(self, skip_last=0):\n",
    "\n",
    "        for s in list(reversed(range(self.s_max + 1)))[:1 if os.environ.get(\"DEBUG\") else -1]:\n",
    "\n",
    "            # initial number of configurations\n",
    "            n = int(ceil(self.B / self.max_iter / (s + 1) * self.eta ** s))\n",
    "\n",
    "            # initial number of iterations per config\n",
    "            r = self.max_iter * self.eta ** (-s)\n",
    "\n",
    "            # n random configurations\n",
    "            T = [self.get_params() for i in range(n)]\n",
    "\n",
    "            for i in list(range((s + 1) - int(skip_last)))[:1 if os.environ.get(\"DEBUG\") else -1]:  # changed from s + 1\n",
    "\n",
    "                # Run each of the n configs for <iterations>\n",
    "                # and keep best (n_configs / eta) configurations\n",
    "\n",
    "                n_configs = n * self.eta ** (-i)\n",
    "                n_iterations = r * self.eta ** (i)\n",
    "\n",
    "                print(\"\\n*** {} configurations x {:.1f} iterations each\".format(\n",
    "                    n_configs, n_iterations))\n",
    "\n",
    "                val_losses = []\n",
    "                early_stops = []\n",
    "\n",
    "                for t in T[:1 if os.environ.get(\"DEBUG\") else -1]:\n",
    "\n",
    "                    self.counter += 1\n",
    "                    print(\"\\n{} | {} | lowest loss so far: {:.4f} (run {})\\n\".format(\n",
    "                        self.counter, ctime(), self.best_loss, self.best_counter))\n",
    "\n",
    "                    start_time = time()\n",
    "\n",
    "                    result = self.try_params(self.data, n_iterations, t)\n",
    "\n",
    "                    assert (type(result) == dict)\n",
    "                    assert ('loss' in result)\n",
    "\n",
    "                    seconds = int(round(time() - start_time))\n",
    "                    print(\"\\n{} seconds.\".format(seconds))\n",
    "\n",
    "                    loss = result['loss']\n",
    "                    val_losses.append(loss)\n",
    "\n",
    "                    early_stop = result.get('early_stop', False)\n",
    "                    early_stops.append(early_stop)\n",
    "\n",
    "                    # keeping track of the best result so far (for display only)\n",
    "                    # could do it be checking results each time, but hey\n",
    "                    if loss < self.best_loss:\n",
    "                        self.best_loss = loss\n",
    "                        self.best_counter = self.counter\n",
    "\n",
    "                    result['counter'] = self.counter\n",
    "                    result['seconds'] = seconds\n",
    "                    result['params'] = t\n",
    "                    result['iterations'] = n_iterations\n",
    "                    result['num_model_params'] = result['model'].count_params()\n",
    "                    del result['model']\n",
    "\n",
    "                    self.results.append(result)\n",
    "\n",
    "                # select a number of best configurations for the next loop\n",
    "                # filter out early stops, if any\n",
    "                indices = np.argsort(val_losses)\n",
    "                T = [T[i] for i in indices if not early_stops[i]]\n",
    "                T = T[0:int(n_configs / self.eta)]\n",
    "\n",
    "        return self.results"
   ]
  },
  {
   "cell_type": "code",
   "execution_count": 22,
   "metadata": {},
   "outputs": [
    {
     "name": "stdout",
     "output_type": "stream",
     "text": [
      "\n",
      "*** 81 configurations x 1.0 iterations each\n",
      "\n",
      "1 | Sat Nov 10 14:52:42 2018 | lowest loss so far: inf (run -1)\n",
      "\n",
      "_________________________________________________________________\n",
      "Layer (type)                 Output Shape              Param #   \n",
      "=================================================================\n",
      "input (InputLayer)           (None, 87, 115, 1)        0         \n",
      "_________________________________________________________________\n",
      "conv2d_6 (Conv2D)            (None, 85, 113, 32)       320       \n",
      "_________________________________________________________________\n",
      "max_pooling2d_6 (MaxPooling2 (None, 42, 56, 32)        0         \n",
      "_________________________________________________________________\n",
      "dropout_6 (Dropout)          (None, 42, 56, 32)        0         \n",
      "_________________________________________________________________\n",
      "flatten_6 (Flatten)          (None, 75264)             0         \n",
      "_________________________________________________________________\n",
      "batch_normalization_6 (Batch (None, 75264)             301056    \n",
      "_________________________________________________________________\n",
      "output (Dense)               (None, 49)                3687985   \n",
      "=================================================================\n",
      "Total params: 3,989,361\n",
      "Trainable params: 3,838,833\n",
      "Non-trainable params: 150,528\n",
      "_________________________________________________________________\n",
      "Epoch 1/1\n",
      "62/62 [==============================] - 152s 2s/step - loss: 0.1441 - acc: 0.9665\n",
      "[0.09144964814186096, 0.9921875]\n",
      "\n",
      "162 seconds.\n",
      "Completed training.\n",
      "Top hyperparameter combinations:\n",
      "{'seconds': 162, 'iterations': 1.0, 'counter': 1, 'num_model_params': 3989361, 'params': {'width': 32}, 'loss': 0.09144964814186096}\n"
     ]
    }
   ],
   "source": [
    "def create_model(input_shape, output_shape, hyperparameters={\"width\": 64}):\n",
    "    input_layer = tf.keras.Input(shape=input_shape, name=\"input\")\n",
    "\n",
    "#     x = tf.keras.layers.Conv2D(32, (3, 3), activation=\"relu\")(input_layer)\n",
    "#     x = tf.keras.layers.Conv2D(64, (3, 3), activation=\"relu\")(x)\n",
    "#     x = tf.keras.layers.MaxPooling2D(pool_size=(2, 2))(x)\n",
    "#     x = tf.keras.layers.Dropout(0.25)(x)\n",
    "#     x = tf.keras.layers.Flatten()(x)\n",
    "#     x = tf.keras.layers.Dense(128, activation=\"relu\")(x)\n",
    "#     x = tf.keras.layers.Dropout(0.5)(x)\n",
    "    \n",
    "    x = tf.keras.layers.Conv2D(hyperparameters[\"width\"], (3, 3), activation=\"relu\")(input_layer)\n",
    "    x = tf.keras.layers.MaxPooling2D(pool_size=(2, 2))(x)\n",
    "    x = tf.keras.layers.Dropout(0.25)(x)\n",
    "    x = tf.keras.layers.Flatten()(x)\n",
    "\n",
    "    x = tf.keras.layers.BatchNormalization()(x)   \n",
    "#     x = tf.keras.layers.Dense(64, activation=\"relu\")(x)\n",
    "#     x = tf.keras.layers.Dropout(0.5)(x)\n",
    "\n",
    "    output_layer = tf.keras.layers.Dense(output_shape, activation=\"softmax\", name=\"output\")(x)\n",
    "        \n",
    "    model = tf.keras.Model(inputs=input_layer, outputs=output_layer)\n",
    "    \n",
    "    # if os.environ.get(\"DEBUG\"):\n",
    "    #     model.compile(loss=tf.keras.losses.categorical_crossentropy,\n",
    "    #                   metrics=['accuracy'],\n",
    "    #                   optimizer=tf.train.AdamOptimizer())\n",
    "    # # Can's use the keras version as it doesn't support distribution strategies yet\n",
    "    # #                   optimizer=tf.keras.optimizers.Adam())\n",
    "    # else:\n",
    "    #     model.compile(loss=tf.keras.losses.categorical_crossentropy,\n",
    "    #                   metrics=['accuracy'],\n",
    "    #                   optimizer=tf.train.AdamOptimizer(),\n",
    "    #                   distribute=tf.contrib.distribute.MirroredStrategy())\n",
    "\n",
    "    model.compile(loss=tf.keras.losses.categorical_crossentropy,\n",
    "                  metrics=['accuracy'],\n",
    "                  optimizer=tf.keras.optimizers.Adam())\n",
    "    return model\n",
    "\n",
    "def get_hyperparameters():\n",
    "    return {\n",
    "        \"width\": random.choice([16, 32])\n",
    "    }\n",
    "\n",
    "def try_params(data, num_iters, hyperparameters):\n",
    "    model = create_model(input_shape=(first_image.shape[0], first_image.shape[1], 1),\n",
    "                         output_shape=len(metadata[\"labels\"]), hyperparameters=hyperparameters)\n",
    "\n",
    "    if os.environ.get(\"DEBUG\"):\n",
    "        model.summary()\n",
    "        \n",
    "    model.fit(data[\"train\"], epochs=int(num_iters), verbose=1, \n",
    "              steps_per_epoch=metadata[\"num_train_examples\"] // batch_size,\n",
    "              callbacks = [tf.keras.callbacks.EarlyStopping(monitor=\"loss\", patience=3, verbose=0, mode='auto')])\n",
    "\n",
    "    loss = model.evaluate(data[\"test\"], steps=1, verbose=0)\n",
    "    print(loss)\n",
    "    return {\"loss\": loss[0], \"model\": model}\n",
    "\n",
    "data = {\"train\": training_dataset, \"val\": training_dataset, \"test\": test_dataset,}\n",
    "hyperband = Hyperband(data, get_hyperparameters, try_params)\n",
    "results = hyperband.run()\n",
    "\n",
    "print(\"Completed training.\")\n",
    "\n",
    "print(\"Top hyperparameter combinations:\")\n",
    "print(sorted(results, key=lambda r: r[\"loss\"])[0])"
   ]
  },
  {
   "cell_type": "code",
   "execution_count": 24,
   "metadata": {},
   "outputs": [
    {
     "name": "stdout",
     "output_type": "stream",
     "text": [
      "Saved model and params to bucket braingeneers under rcurrie/simulated/models\n"
     ]
    }
   ],
   "source": [
    "# Save the params, model and weights to S3 for evaluation back on jupyter\n",
    "params = {\n",
    "    \"hyperparamters\": results\n",
    "}\n",
    "\n",
    "dest = \"{}/{}/models\".format(os.environ[\"USER\"], metadata[\"data_set\"])\n",
    "bucket.Object(\"{}/params.json\".format(dest)).put(Body=json.dumps(params), ACL=\"public-read\")\n",
    "# model.save(\"/tmp/model.h5\")\n",
    "# bucket.Object(\"{}/model.h5\".format(dest)).upload_file(\"/tmp/model.h5\", ExtraArgs={\"ACL\":\"public-read\"})\n",
    "print(\"Saved model and params to bucket {} under {}\".format(bucket_name, dest))"
   ]
  }
 ],
 "metadata": {
  "kernelspec": {
   "display_name": "Python 3",
   "language": "python",
   "name": "python3"
  },
  "language_info": {
   "codemirror_mode": {
    "name": "ipython",
    "version": 3
   },
   "file_extension": ".py",
   "mimetype": "text/x-python",
   "name": "python",
   "nbconvert_exporter": "python",
   "pygments_lexer": "ipython3",
   "version": "3.5.2"
  }
 },
 "nbformat": 4,
 "nbformat_minor": 2
}
