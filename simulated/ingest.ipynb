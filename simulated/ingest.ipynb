{
 "cells": [
  {
   "cell_type": "markdown",
   "metadata": {},
   "source": [
    "# Ingest Simulated Data\n",
    "\n",
    "Read the simulated images from a zip file, extract labels from filename, split into stratified train/test sets and write out to tfrecord files on the PRP CEPH/S3 cluster with public access so they can be used from Colab"
   ]
  },
  {
   "cell_type": "code",
   "execution_count": 2,
   "metadata": {},
   "outputs": [],
   "source": [
    "import os\n",
    "import re\n",
    "import zipfile\n",
    "import numpy as np\n",
    "import tensorflow as tf"
   ]
  },
  {
   "cell_type": "code",
   "execution_count": 3,
   "metadata": {},
   "outputs": [],
   "source": [
    "# Switch to scratch data directory on local machine\n",
    "!mkdir -p ~/data/braingeneers/simulated\n",
    "os.chdir(os.path.expanduser(\"~/data/braingeneers/simulated\"))"
   ]
  },
  {
   "cell_type": "code",
   "execution_count": 9,
   "metadata": {
    "scrolled": false
   },
   "outputs": [
    {
     "name": "stdout",
     "output_type": "stream",
     "text": [
      "Found 49 unique labels\n",
      "Split into 800 training and 200 test examples\n"
     ]
    },
    {
     "data": {
      "image/png": "[encoded data removed]",
      "text/plain": [
       "<Figure size 432x288 with 1 Axes>"
      ]
     },
     "metadata": {
      "needs_background": "light"
     },
     "output_type": "display_data"
    }
   ],
   "source": [
    "# Extract labels from filenames and split with associated path into stratified train/test\n",
    "with zipfile.ZipFile(\"mltest-cropped.zip\", \"r\") as f:\n",
    "    paths = [path for path in filter(lambda p: p.endswith(\".png\"), f.namelist())]\n",
    "    labels = [re.findall(r\".*?\\/\\w+_(\\d+)\", path)[0] for path in paths]\n",
    "print(\"Found {} unique labels\".format(len(set(labels))))\n",
    "        \n",
    "from sklearn.model_selection import train_test_split\n",
    "X_train, X_test, y_train, y_test = train_test_split(paths, labels, stratify=labels, test_size=0.20)\n",
    "\n",
    "print(\"Split into {} training and {} test examples\".format(len(X_train), len(X_test)))\n",
    "\n",
    "# Plot labels in train/test to verify stratification\n",
    "import matplotlib.pyplot as plt\n",
    "plt.hist(y_train, alpha=0.5, label='Train')\n",
    "plt.hist(y_test, alpha=0.5, label='Test')\n",
    "plt.legend(loc='upper right')\n",
    "plt.title(\"Distribution between train and test sets\")\n",
    "plt.show()"
   ]
  },
  {
   "cell_type": "code",
   "execution_count": 18,
   "metadata": {},
   "outputs": [],
   "source": [
    "def write_dataset(src, dest, paths, labels):\n",
    "    \"\"\"\n",
    "    For each path and label extract a blob from src zip file and write to dest tfrecord file\n",
    "    \"\"\"\n",
    "    with zipfile.ZipFile(src, \"r\") as f:\n",
    "        with tf.python_io.TFRecordWriter(dest) as writer:\n",
    "            for path, label in zip(paths, labels):\n",
    "                writer.write(tf.train.Example(features=tf.train.Features(\n",
    "                    feature = {\n",
    "                        \"example\": tf.train.Feature(bytes_list=tf.train.BytesList(value=[f.read(path)])),\n",
    "                        \"label\": tf.train.Feature(int64_list=tf.train.Int64List(value=[int(label)]))\n",
    "                    })).SerializeToString())\n",
    "\n",
    "write_dataset(\"mltest-cropped.zip\", \"mltest-cropped-train.tfrecord\", X_train, y_train)\n",
    "write_dataset(\"mltest-cropped.zip\", \"mltest-cropped-test.tfrecord\", X_test, y_test)"
   ]
  },
  {
   "cell_type": "markdown",
   "metadata": {},
   "source": [
    "# Upload to S3\n",
    "\n",
    "These files are now accessible publicly external to the PRP at:\n",
    "\n",
    "  https://s3.nautilus.optiputer.net/braingeneers/simulated/mltest-cropped.zip\n",
    "\n",
    "  https://s3.nautilus.optiputer.net/braingeneers/simulated/mltest-cropped-train.tfrecord\n",
    "  \n",
    "  https://s3.nautilus.optiputer.net/braingeneers/simulated/mltest-cropped-test.tfrecord\n",
    "\n",
    "    \n",
    "and internal to the PRP at the endpoint rook-ceph-rgw-rooks3.rook"
   ]
  },
  {
   "cell_type": "code",
   "execution_count": 19,
   "metadata": {},
   "outputs": [],
   "source": [
    "# Empty the path\n",
    "!aws --profile {os.getenv(\"AWS_PROFILE\")} --endpoint {os.getenv(\"AWS_S3_ENDPOINT\")} \\\n",
    "    s3 rm --recursive s3://braingeneers/simulated"
   ]
  },
  {
   "cell_type": "code",
   "execution_count": 20,
   "metadata": {},
   "outputs": [
    {
     "name": "stdout",
     "output_type": "stream",
     "text": [
      "upload: ./mltest-cropped-test.tfrecord to s3://braingeneers/simulated/mltest-cropped-test.tfrecord\n",
      "upload: ./mltest-cropped.zip to s3://braingeneers/simulated/mltest-cropped.zip\n",
      "upload: ./mltest-cropped-train.tfrecord to s3://braingeneers/simulated/mltest-cropped-train.tfrecord\n"
     ]
    }
   ],
   "source": [
    "# Use the aws cli's rsync like sync command to push up to PRP S3/CEPH\n",
    "!aws --profile {os.getenv(\"AWS_PROFILE\")} --endpoint {os.getenv(\"AWS_S3_ENDPOINT\")} \\\n",
    "    s3 sync . s3://braingeneers/simulated --acl public-read"
   ]
  },
  {
   "cell_type": "code",
   "execution_count": 22,
   "metadata": {},
   "outputs": [
    {
     "name": "stdout",
     "output_type": "stream",
     "text": [
      "2018-11-03 16:06:25    6304776 mltest-cropped-test.tfrecord\r\n",
      "2018-11-03 16:06:27   25165976 mltest-cropped-train.tfrecord\r\n",
      "2018-11-03 16:06:27   31577599 mltest-cropped.zip\r\n"
     ]
    }
   ],
   "source": [
    "!aws --profile {os.getenv(\"AWS_PROFILE\")} --endpoint {os.getenv(\"AWS_S3_ENDPOINT\")} \\\n",
    "    s3 ls s3://braingeneers/simulated/"
   ]
  }
 ],
 "metadata": {
  "kernelspec": {
   "display_name": "Python 3",
   "language": "python",
   "name": "python3"
  },
  "language_info": {
   "codemirror_mode": {
    "name": "ipython",
    "version": 3
   },
   "file_extension": ".py",
   "mimetype": "text/x-python",
   "name": "python",
   "nbconvert_exporter": "python",
   "pygments_lexer": "ipython3",
   "version": "3.5.2"
  }
 },
 "nbformat": 4,
 "nbformat_minor": 2
}
